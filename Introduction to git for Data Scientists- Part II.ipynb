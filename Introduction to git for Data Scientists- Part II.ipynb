{
 "cells": [
  {
   "cell_type": "markdown",
   "metadata": {
    "slideshow": {
     "slide_type": "slide"
    }
   },
   "source": [
    "# Intro to git for Data Scientists - Part II"
   ]
  },
  {
   "cell_type": "markdown",
   "metadata": {},
   "source": [
    "# Chapter II\n",
    "\n",
    "* How to track changes of a file in a repository (log, show, diff)\n",
    "* How to maintain different versions of a file without going crazy (branch, checkout)\n",
    "* Time-travel with git (revert, checkout, reset)"
   ]
  },
  {
   "cell_type": "markdown",
   "metadata": {},
   "source": [
    "**Warning**: This tutorial assumes you have already completed part 0 of this tutorial, and have run all the cells in that notebook *exactly once*"
   ]
  },
  {
   "cell_type": "markdown",
   "metadata": {},
   "source": [
    "## How to track changes of a file in a repository (log, show, diff)"
   ]
  },
  {
   "cell_type": "markdown",
   "metadata": {},
   "source": [
    "In the first part of this tutorial we have created a repository and added a few commits to it. Sometimes we will want git to remind us of the latest changes we have performed in our repository - this is where `git log` comes handy: "
   ]
  },
  {
   "cell_type": "code",
   "execution_count": null,
   "metadata": {},
   "outputs": [],
   "source": [
    "%%bash\n",
    "cd my_first_repo\n",
    "git log --graph"
   ]
  },
  {
   "cell_type": "markdown",
   "metadata": {},
   "source": [
    "**Exercise 1.0**: Show the commit history only for the file (aka. path) `test.py`. \n",
    "\n",
    "**Exercise 1.1**: Show the commit history only for the last two commits.\n",
    "\n",
    "**Exercise 1.2**: Show the commit history only for the first two commits.\n",
    "\n",
    "*Hint*: Check out [git log's documentation](https://git-scm.com/docs/git-log)"
   ]
  },
  {
   "cell_type": "markdown",
   "metadata": {},
   "source": [
    "Perhaps we also want to know what exactly we did in a given commit. `git show` is here to help us:"
   ]
  },
  {
   "cell_type": "code",
   "execution_count": null,
   "metadata": {},
   "outputs": [],
   "source": [
    "%%bash\n",
    "cd my_first_repo\n",
    "# This will fail because this commit sha is from my repo, not your repo. Update it to the sha of the commit you want to show!\n",
    "git show 33edc85477fb9db2a67e279b7b031d0a69a05002"
   ]
  },
  {
   "cell_type": "markdown",
   "metadata": {},
   "source": [
    "### Diffing is the name of the game\n",
    "\n",
    "Let's spice it up a little. We will now experiment with the `git diff` tool which allows us to understand what exactly changed between two commits, the staged changes and HEAD or other variations thereof.\n",
    "\n",
    "Before doing that, let's add some meat to our skinny repository! For the next few steps we will work with [an example of Machine Learning code in Python from Scikit-learn's](https://scikit-learn.org/stable/auto_examples/compose/plot_compare_reduction.html#sphx-glr-auto-examples-compose-plot-compare-reduction-py) library of examples. This means that you will **need to install scikit-learn v0.20.3 or compatible if you don't have it yet.**"
   ]
  },
  {
   "cell_type": "code",
   "execution_count": null,
   "metadata": {},
   "outputs": [],
   "source": [
    "%%bash\n",
    "rm -f my_first_repo/plot_compare_reduction.py*\n",
    "# This script (plot_compare_reduction.py) has been obtained via: \n",
    "# wget https://scikit-learn.org/stable/_downloads/plot_compare_reduction.py -P resources\n",
    "# A local copy is held in case sklearn's version changes\n",
    "cp resources/plot_compare_reduction.py my_first_repo/\n",
    "cd my_first_repo\n",
    "git add plot_compare_reduction.py\n",
    "git commit -m 'checking scikit learn example into our repo'"
   ]
  },
  {
   "cell_type": "markdown",
   "metadata": {},
   "source": [
    "Our first step will be to clean up the example to remove the part corresponding to \"Caching transformers within a `Pipeline`\":"
   ]
  },
  {
   "cell_type": "code",
   "execution_count": null,
   "metadata": {},
   "outputs": [],
   "source": [
    "%%bash\n",
    "cd my_first_repo\n",
    "# We will remove all code after line 91\n",
    "# If you're wondering why redirect and then mv, cf: https://unix.stackexchange.com/questions/15826/io-redirection-and-the-head-command\n",
    "head -n 91 plot_compare_reduction.py > tmp.py\n",
    "mv tmp.py plot_compare_reduction.py\n",
    "git add plot_compare_reduction.py\n",
    "git commit -m 'removing part corresponding to Caching transformers within a Pipeline'"
   ]
  },
  {
   "cell_type": "markdown",
   "metadata": {},
   "source": [
    "Did we do what we wanted? `git diff` is your ally because it will allow you to see what exactly changed relative to a past commit:"
   ]
  },
  {
   "cell_type": "code",
   "execution_count": null,
   "metadata": {},
   "outputs": [],
   "source": [
    "%%bash\n",
    "cd my_first_repo\n",
    "git diff `git log --pretty=format:'%h' -n 1`~1"
   ]
  },
  {
   "cell_type": "markdown",
   "metadata": {},
   "source": [
    "The `diff` output shows that we managed to do what we wanted.\n",
    "\n",
    "Note that here we used a trick:\n",
    "```\n",
    "`git log --pretty=format:'%h' -n 1`~1\n",
    "```\n",
    "to retrieve the previous' commit sha without having to know the sha in advance. Indeed:"
   ]
  },
  {
   "cell_type": "code",
   "execution_count": null,
   "metadata": {},
   "outputs": [],
   "source": [
    "%%bash\n",
    "cd my_first_repo\n",
    "git log --pretty=format:'%h' -n 1"
   ]
  },
  {
   "cell_type": "markdown",
   "metadata": {},
   "source": [
    "Returns the short sha of last commit (the one we just did), and by adding the `~1` suffix, we get a reference to the one previous to the last. \n",
    "\n",
    "In fact, in this particular case we overcomplicated the syntax since we could have simply used `git diff HEAD~1` to get the information we wanted."
   ]
  },
  {
   "cell_type": "markdown",
   "metadata": {},
   "source": [
    "**Exercise 1.4**: You will now modify the `my_first_repo/plot_compare_reduction.py` file so that:\n",
    "1. The values in the variable `C_OPTIONS` are `[1, 10, 100, 500]`\n",
    "2. Instead of plotting a figure, it saves the chart in a PNG file (hint: [plt.savefig](https://matplotlib.org/api/_as_gen/matplotlib.pyplot.savefig.html))\n",
    "\n",
    "It's important that you stage and commit **each of changes separately**. Make sure that you accomplished what you wanted by:\n",
    "1. Checking each diff relative to each previous commit.\n",
    "2. Running the resulting code"
   ]
  },
  {
   "cell_type": "markdown",
   "metadata": {},
   "source": [
    "## How to maintain different versions of a file without going crazy (branch, checkout)\n",
    "\n",
    "As you know, the typical data science flow involves a lot more changes than the ones we performed in Exercise 1.4. In particular, the development flow is not linear: one wants to be able to go back and forth between different experiments, and try different variations of a given change before consolidating it.\n",
    "\n",
    "The VCS-free approach to dealing with this variability is to append suffixes to our code files and artifacts (e.g. charts), which typically ends up with a pletora of files with cryptic names, each corresponding to a different variation:\n",
    "* plot_compare_reduction_v2.py\n",
    "* plot_compare_reduction_v2_include_LR.py\n",
    "* plot_compare_reduction_iris_data_v2.py...\n",
    "\n",
    "You get the point. The situation becomes even more daunting when there are several people working on the same project.\n",
    "\n",
    "Luckily, Git gives a number of tools to support this type of work in cleaner and more powerful way, leveraging the power of `branches`. As we saw during the lecture, one can think of a branch as a diversion from the master branch in such a way that we can always go back to any other branch (including the master one) with just a few keystrokes.\n",
    "\n",
    "Let's get to it. Suppose that we want to experiment with some serious changes to the `my_first_repo/plot_compare_reduction.py` script, changes that we are not sure will remain permanent. The first step is to create a new branch where we will start commiting these changes into, so that the stuff we have in our master branch remains unnaffected:"
   ]
  },
  {
   "cell_type": "code",
   "execution_count": null,
   "metadata": {},
   "outputs": [],
   "source": [
    "%%bash\n",
    "cd my_first_repo/\n",
    "# I usually use the convention of giving my branches names following the convention {user}/{short description}\n",
    "git branch -c $USER/experiment"
   ]
  },
  {
   "cell_type": "markdown",
   "metadata": {},
   "source": [
    "I now have two branches in my repository, as `git branch` cordially explains:"
   ]
  },
  {
   "cell_type": "code",
   "execution_count": null,
   "metadata": {},
   "outputs": [],
   "source": [
    "%%bash\n",
    "cd my_first_repo/\n",
    "git branch"
   ]
  },
  {
   "cell_type": "markdown",
   "metadata": {},
   "source": [
    "The * indicates to me that I'm currently working on my `master` branch. Since I want to perform a few naughty changes, I need first to switch to the newly created branch, and for that I will use `git checkout`:"
   ]
  },
  {
   "cell_type": "code",
   "execution_count": null,
   "metadata": {},
   "outputs": [],
   "source": [
    "%%bash\n",
    "cd my_first_repo/\n",
    "git checkout $USER/experiment"
   ]
  },
  {
   "cell_type": "markdown",
   "metadata": {},
   "source": [
    "**Exercise 1.5**: Can you visualize the differences between those two branches? (the `$USER/experiment` branch and the `master` branch) (hint: you can use git diff)"
   ]
  },
  {
   "cell_type": "markdown",
   "metadata": {},
   "source": [
    "To make things more interesting, we will create yet another branch to work on a couple changes that we would like to peform in order to show confidence intervals in the bar chart of our comparison plot:"
   ]
  },
  {
   "cell_type": "code",
   "execution_count": null,
   "metadata": {},
   "outputs": [],
   "source": [
    "%%bash\n",
    "cd my_first_repo/\n",
    "# `git checkout -b` performs a `branch -c` + `checkout`\n",
    "git checkout -b $USER/add_cis_to_plot master"
   ]
  },
  {
   "cell_type": "markdown",
   "metadata": {},
   "source": [
    "**Exercise 1.6**: Let's practice moving in and out of branches... it's a bit of work but we'll use what you do here later to work on `merge` and `rebases`. Please do the following:\n",
    "1. Make a few changes in the experiment code (for example: try another classifier or dimensionality reduction method) while working on the `$USER/experiment` branch. \n",
    "2. Introduce confidence intervals to the bar charts while working on the `$USER/add_cis_to_plot` branch\n",
    "\n",
    "**Important**: make sure you develop each change in the right branch, and that you stage and commit your work incrementally. Incremental commits are in general preferable over big long ones.\n",
    "\n",
    "*Questions*:\n",
    "1. After you've made the changes, what are the differences between the `$USER/experiment` and the `$USER/add_cis_to_plot` branches? \n",
    "2. Are there any conflicting changes?"
   ]
  },
  {
   "cell_type": "markdown",
   "metadata": {},
   "source": [
    "## Time-travel with git (checkout, revert, reset)\n",
    "\n",
    "<img src=\"time_travel.jpg\" height=\"240\" align=\"center\"/>\n",
    "\n",
    "During the course of the past exercises you have probably encountered a few situations where you made a mistake:\n",
    "* Perhaps you mistakenly staged files that you don't really want to track\n",
    "* Or you commited a change that you now regret\n",
    "* Or simply you want to go back to a state where you know things were stable...\n",
    "\n",
    "Don't you worry! The ability to go back and forth in your development timeline is one of the most powerful features git has to offer. "
   ]
  },
  {
   "cell_type": "markdown",
   "metadata": {},
   "source": [
    "### Unstaging changes\n",
    "One of the most common situations is when you accidentally stage changes on a tracked file, or start tracking a file you didn't want to track. Let's simulate this situation in our playground repo:"
   ]
  },
  {
   "cell_type": "code",
   "execution_count": null,
   "metadata": {},
   "outputs": [],
   "source": [
    "%%bash\n",
    "cd my_first_repo/\n",
    "# we will switch to a new branch for convenience\n",
    "git checkout -b $USER/time_travel master\n",
    "# accidental removal of \"a few\" lines in `plot_compare_reduction.py`\n",
    "head -n 50 plot_compare_reduction.py > plot_compare_reduction.py.tmp\n",
    "mv plot_compare_reduction.py.tmp plot_compare_reduction.py\n",
    "# change we actually want to make:\n",
    "echo \"import sys\\npython_major_version=sys.version_info[0]\\nassert python_major_version==3\" >> test.py\n",
    "# we carelessly add the accidental changes and the one we want to make\n",
    "git add --all\n",
    "git status"
   ]
  },
  {
   "cell_type": "markdown",
   "metadata": {},
   "source": [
    "The first problem is that we have added a `.png` file which is the artifact of our computation in `plot_compare_reduction.py`, and as we discussed earlier, we don't generally want to check artifacts (binaries) into git. So we will follow `git`'s suggestion and `unstage` it, by applying:"
   ]
  },
  {
   "cell_type": "code",
   "execution_count": null,
   "metadata": {},
   "outputs": [],
   "source": [
    "%%bash\n",
    "cd my_first_repo/\n",
    "git reset HEAD plot_compare_reduction.png\n",
    "git status"
   ]
  },
  {
   "cell_type": "markdown",
   "metadata": {},
   "source": [
    "We have successfully solved the first problem: the addition of an unwanted new file. But how did this happened? \n",
    "    \n",
    "A proper response to this answer would require a level of understanding of the git internals and commands that is a bit beyond the scope of this course, but I will attempt to simplify the explanation here. When we user `git reset` on a given path (file), what we told git is to bring the state of that file **in the staging area** (the index) to the commit `HEAD` is pointing too (the last commit of the branch). Since that commit points to a snapshot of the repository where the file `plot_compare_reduction.png` doesn't exist, the result is that the `add` operation we just performed on it is undone, so the file goes back to the pile of `untracked files`, as the `git status` command states.\n",
    "\n",
    "More information on `git reset`:\n",
    "\n",
    "* https://stackoverflow.com/questions/3639342/whats-the-difference-between-git-reset-and-git-checkout\n",
    "\n",
    "* https://git-scm.com/book/en/v2/Git-Tools-Reset-Demystified\n",
    "\n",
    "We still have one more problem to solve, which is the accidental deletion of content from `plot_compare_reduction.py`. Since we know that the state of this path in HEAD is the correct one, we can apply the same operation:"
   ]
  },
  {
   "cell_type": "code",
   "execution_count": null,
   "metadata": {},
   "outputs": [],
   "source": [
    "%%bash\n",
    "cd my_first_repo/\n",
    "git reset HEAD plot_compare_reduction.py\n",
    "git status"
   ]
  },
  {
   "cell_type": "markdown",
   "metadata": {},
   "source": [
    "The accidental change is no longer staged for commit (it no longer exists in the index/staging area), but if we look at the file, it still has the changes we performed in the working tree (our filesystem). In order to undo the changes we did in the file in our working tree, we need to perform an additional operation of restoring the state of the file to the one we had stored in HEAD:"
   ]
  },
  {
   "cell_type": "code",
   "execution_count": null,
   "metadata": {},
   "outputs": [],
   "source": [
    "%%bash\n",
    "cd my_first_repo/\n",
    "git checkout HEAD plot_compare_reduction.py\n",
    "git status"
   ]
  },
  {
   "cell_type": "markdown",
   "metadata": {},
   "source": [
    "Note that we could also have used the command `git checkout -- plot_compare_reduction.py`, where `--` in this case indicates `checkout` to bring the path to the state in HEAD.\n",
    "\n",
    "So we have managed to succesfully unstage the accidental changes, so now we can merrily commit our desired changes and move on:"
   ]
  },
  {
   "cell_type": "code",
   "execution_count": null,
   "metadata": {},
   "outputs": [],
   "source": [
    "%%bash\n",
    "cd my_first_repo/\n",
    "git commit -m 'adding python version check'\n",
    "git status"
   ]
  },
  {
   "cell_type": "markdown",
   "metadata": {},
   "source": [
    "### Reverting previous work\n",
    "\n",
    "Another common situation occurs when we introduce a change in our repository that we later regret. Contrary to the previous situation, in this case we have already committed the change.\n",
    "\n",
    "If the unwanted change is the last one we committed, we could use `git reset` to start working from the last stable state. Unfortunately, this would mean that we're \"re-writing history\" which can cause problems if the changes have already been shared with other collaborators, because each one of us will have a different version of history.\n",
    "\n",
    "So a safer way is to use `git revert`, which allows us to undo the changes in a specific commit by adding an additional commit that does just as much:"
   ]
  },
  {
   "cell_type": "code",
   "execution_count": null,
   "metadata": {},
   "outputs": [],
   "source": [
    "%%bash\n",
    "cd my_first_repo/\n",
    "git log -n 5"
   ]
  },
  {
   "cell_type": "markdown",
   "metadata": {},
   "source": [
    "Suppose we want to undo the changes we performed earlier in commit \"Updating C_OPTIONS to desired values\""
   ]
  },
  {
   "cell_type": "code",
   "execution_count": null,
   "metadata": {},
   "outputs": [],
   "source": [
    "%%bash\n",
    "cd my_first_repo/\n",
    "# update this commit SHA to the one you see in your commit log\n",
    "git show XXXX # <---"
   ]
  },
  {
   "cell_type": "markdown",
   "metadata": {},
   "source": [
    "Reverting to the state previous to these changes is a piece of cake:"
   ]
  },
  {
   "cell_type": "code",
   "execution_count": null,
   "metadata": {},
   "outputs": [],
   "source": [
    "%%bash\n",
    "cd my_first_repo/\n",
    "git revert XXXX # update this commit SHA to the one you see in your commit log"
   ]
  },
  {
   "cell_type": "markdown",
   "metadata": {},
   "source": [
    "And you're done: you can verify by yourself that the state of `plot_compare_reduction.py` is the one previous to the changes we performed.\n",
    "\n",
    "**Warning**: Note that revert gives you a quick way of undoing any type of changes, not just simple changes affecting a single file. This doesn't mean reverting is without risks. Consider for example the setup of the following exercise.\n",
    "\n",
    "**Exercise 1.7**: We will now create a situation where reverting can create a mess. Please follow the next steps of havoc-making:\n",
    "0. Create and checkout new branch off master called `revert_havoc`\n",
    "1. Create a new python module `dependency.py` with a function named `my_dependency()`. Stage and commit the changes.\n",
    "2. Now make a call to that function somewhere in `plot_compare_reduction.py` (Don't forget to import the module first). Stage and commit those changes.\n",
    "3. Now revert the commit created in Step 1. What changes does it induce? Will your code work after the revert? "
   ]
  },
  {
   "cell_type": "markdown",
   "metadata": {},
   "source": [
    "### Summary of time-travel operations\n",
    "\n",
    "In this last section we have learned how to time-travel: go back in time to a state where we are more comfy. As you probably suspected, time-travel is not without risk so it has to be used carefully and judiciously. \n",
    "\n",
    "A nice and concise summary of the time-travel operations is the following:\n",
    "\n",
    "| Command |\tScope |\tCommon use cases|\n",
    "|---|---|---|\n",
    "|git reset|Commit-level|Discard commits in a private branch or throw away uncommited changes|\n",
    "|git reset|File-level|Unstage a file|\n",
    "|git checkout|Commit-level|Switch between branches or inspect old snapshots|\n",
    "|git checkout|File-level|Discard changes in the working directory|\n",
    "|git revert|Commit-level|Undo commits in a public branch|\n",
    "|git revert|File-level|(N/A)|\n",
    "\n",
    "(Adapted from https://www.atlassian.com/git/tutorials/resetting-checking-out-and-reverting)"
   ]
  }
 ],
 "metadata": {
  "kernelspec": {
   "display_name": "ml_in_prod",
   "language": "python",
   "name": "ml_in_prod"
  },
  "language_info": {
   "codemirror_mode": {
    "name": "ipython",
    "version": 3
   },
   "file_extension": ".py",
   "mimetype": "text/x-python",
   "name": "python",
   "nbconvert_exporter": "python",
   "pygments_lexer": "ipython3",
   "version": "3.7.6"
  }
 },
 "nbformat": 4,
 "nbformat_minor": 2
}
