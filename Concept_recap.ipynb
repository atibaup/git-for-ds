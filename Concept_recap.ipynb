{
 "cells": [
  {
   "cell_type": "markdown",
   "metadata": {},
   "source": [
    "### Git is trying to avoid collaboration madness :)\n",
    "\n",
    "<img src=\"figures/phd_comics_version_control.gif\" height=\"100\" align=\"center\"/>\n",
    "\n",
    "### A repository is like a filesystem within the filesystem\n",
    "\n",
    "ps: The \"staging area\" is also known as \"index\" and the \"working tree\" is also known as the \"working directory\" in git parlance. It would have been too easy otherwise :D\n",
    "\n",
    "<img src=\"figures/20200130_150448.jpg\" height=\"100\" align=\"center\"/>\n",
    "\n",
    "### Files are outside the repository (`untracked`) unless we tell git to track it!\n",
    "\n",
    "<img src=\"figures/20200130_150554.jpg\" height=\"100\" align=\"center\"/>\n",
    "\n",
    "### When we `stage` changes, we're preparing changes that we will later `commit`\n",
    "\n",
    "<img src=\"figures/20200130_150803.jpg\" height=\"100\" align=\"center\"/>\n",
    "\n",
    "### When we `commit` changes, we're creating a permanent* record of the state of the repository after the changes were made\n",
    "\n",
    "(*) it's not 100% permanent, there're ways for us to screw things and rewrite history\n",
    "\n",
    "<img src=\"figures/20200130_150915.jpg\" height=\"100\" align=\"center\"/>\n",
    "\n",
    "\n",
    "### Commits are hence pointers to the states of the repository through its lifetime\n",
    "\n",
    "<img src=\"figures/20200130_152142.jpg\" height=\"100\" align=\"center\"/>\n",
    "\n",
    "### Which allows us to time-travel!\n",
    "\n",
    "<img src=\"figures/20200130_152120.jpg\" height=\"100\" align=\"center\"/>\n",
    "\n",
    "### Commits point to their parents (they could have more than 1!), so we can represent the repo's state through time as a graph\n",
    "\n",
    "<img src=\"figures/20200130_152959.jpg\" height=\"100\" align=\"center\"/>\n",
    "\n",
    "This is useful to reason through changes and more importantly, to fix errors or resolve conflicts\n",
    "\n",
    "### Branches are pointers to a commit\n",
    "\n",
    "<img src=\"figures/20200130_153232.jpg\" height=\"100\" align=\"center\"/>\n",
    "\n",
    "https://git-scm.com/book/en/v2/Git-Branching-Branches-in-a-Nutshell"
   ]
  }
 ],
 "metadata": {
  "kernelspec": {
   "display_name": "ml_in_prod",
   "language": "python",
   "name": "ml_in_prod"
  },
  "language_info": {
   "codemirror_mode": {
    "name": "ipython",
    "version": 3
   },
   "file_extension": ".py",
   "mimetype": "text/x-python",
   "name": "python",
   "nbconvert_exporter": "python",
   "pygments_lexer": "ipython3",
   "version": "3.7.6"
  }
 },
 "nbformat": 4,
 "nbformat_minor": 4
}
